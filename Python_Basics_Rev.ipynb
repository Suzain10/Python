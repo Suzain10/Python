{
  "nbformat": 4,
  "nbformat_minor": 0,
  "metadata": {
    "colab": {
      "provenance": []
    },
    "kernelspec": {
      "name": "python3",
      "display_name": "Python 3"
    },
    "language_info": {
      "name": "python"
    }
  },
  "cells": [
    {
      "cell_type": "markdown",
      "source": [
        "**Module** is like a code library which can be used to borrow the code written by somebody else, is of 2 types:\n",
        "\n",
        "**Built-in** **modules** are included in Python's standard library and do not require installation and can be used using import. Example: math, os etc.\n",
        "\n",
        "**External modules** are not included in the standard library and need to be installed using a package manager like pip. Example: numpy, pandas etc.\n"
      ],
      "metadata": {
        "id": "bn_uEUx_YozU"
      }
    },
    {
      "cell_type": "code",
      "execution_count": null,
      "metadata": {
        "colab": {
          "base_uri": "https://localhost:8080/"
        },
        "id": "l1AtVnukPkiw",
        "outputId": "380fe990-633c-4f42-fa5d-f386ef95ac43"
      },
      "outputs": [
        {
          "output_type": "stream",
          "name": "stdout",
          "text": [
            "Hi I am \"Suzain\".\n"
          ]
        }
      ],
      "source": [
        "print(\"Hi I am \\\"Suzain\\\".\")  #Escape Sequence"
      ]
    },
    {
      "cell_type": "code",
      "source": [
        "print(\"My name is \\\"Suzain\\\",\\nI live in \\\"India\\\",\\nI love \\\"Animals\\\".\")"
      ],
      "metadata": {
        "colab": {
          "base_uri": "https://localhost:8080/"
        },
        "id": "NsYNYkN7PrU6",
        "outputId": "06097b46-c17f-4213-c2dd-7b7a66f1f8e5"
      },
      "execution_count": null,
      "outputs": [
        {
          "output_type": "stream",
          "name": "stdout",
          "text": [
            "My name is \"Suzain\",\n",
            "I live in \"India\",\n",
            "I love \"Animals\".\n"
          ]
        }
      ]
    },
    {
      "cell_type": "code",
      "source": [
        "new_var = print(\"My name is \\\"Suzain\\\" \" ,\" I live in \\\"India\\\"\", sep=\"and\")\n",
        "new_var"
      ],
      "metadata": {
        "colab": {
          "base_uri": "https://localhost:8080/"
        },
        "id": "cCN38Zl_QTIP",
        "outputId": "70b3588f-903a-4d64-942b-124bd4262587"
      },
      "execution_count": null,
      "outputs": [
        {
          "output_type": "stream",
          "name": "stdout",
          "text": [
            "My name is \"Suzain\" and I live in \"India\"\n"
          ]
        }
      ]
    },
    {
      "cell_type": "code",
      "source": [
        "print(\"Suzain\", \"24\",\"Female\", sep = \"\\n\")  #Separator"
      ],
      "metadata": {
        "colab": {
          "base_uri": "https://localhost:8080/"
        },
        "id": "6r4_h-5WQtHA",
        "outputId": "9d8963fa-b142-48b6-8291-236961b6e015"
      },
      "execution_count": null,
      "outputs": [
        {
          "output_type": "stream",
          "name": "stdout",
          "text": [
            "Suzain\n",
            "24\n",
            "Female\n"
          ]
        }
      ]
    },
    {
      "cell_type": "code",
      "source": [
        "'''new_var = print(\"My name is \\\"Suzain\\\" \" ,\" I live in \\\"India\\\"\", sep=\"and\")\n",
        "new_var'''                   ##Multi-line Comment\n",
        "print(\"Hello\")"
      ],
      "metadata": {
        "colab": {
          "base_uri": "https://localhost:8080/"
        },
        "id": "gQHVchtXRmQD",
        "outputId": "fe331447-9c21-4f7a-ff33-64ea60d3d42d"
      },
      "execution_count": null,
      "outputs": [
        {
          "output_type": "stream",
          "name": "stdout",
          "text": [
            "Hello\n"
          ]
        }
      ]
    },
    {
      "cell_type": "markdown",
      "source": [
        "**Typecasting**: Conversion of one data type to another.\n",
        "Has 2 types:  \n",
        "**Implicit Typecasting:** Here, Python automatically converts one data type to another to avoid data loss or errors during operations.\n",
        "\n",
        "**Explicit Typecasting:** It is when you manually convert one data type to another using functions like int(), float(), str(), etc.\n",
        "\n"
      ],
      "metadata": {
        "id": "sNFfTqgqsKhf"
      }
    },
    {
      "cell_type": "code",
      "source": [
        "a = 1\n",
        "b = 2\n",
        "print(type(a))"
      ],
      "metadata": {
        "colab": {
          "base_uri": "https://localhost:8080/"
        },
        "id": "lvzomCZ0slCF",
        "outputId": "697a3b9f-43ae-4765-c7f4-9f74409c964f"
      },
      "execution_count": null,
      "outputs": [
        {
          "output_type": "stream",
          "name": "stdout",
          "text": [
            "<class 'int'>\n"
          ]
        }
      ]
    },
    {
      "cell_type": "code",
      "source": [
        "a = \"1\"\n",
        "b = \"2\"\n",
        "print(type(a))\n",
        "print(a + b)"
      ],
      "metadata": {
        "colab": {
          "base_uri": "https://localhost:8080/"
        },
        "id": "h59T9N10spIK",
        "outputId": "8c5400a7-31c0-4cdc-d704-f0cac9b577ff"
      },
      "execution_count": null,
      "outputs": [
        {
          "output_type": "stream",
          "name": "stdout",
          "text": [
            "<class 'str'>\n",
            "12\n"
          ]
        }
      ]
    },
    {
      "cell_type": "code",
      "source": [
        "a = int(2.2)\n",
        "b = 2.2\n",
        "print(type(a))\n"
      ],
      "metadata": {
        "colab": {
          "base_uri": "https://localhost:8080/"
        },
        "id": "eN1i--JYs2Hr",
        "outputId": "71484743-5505-4fbf-c4f9-7c0b064184f8"
      },
      "execution_count": null,
      "outputs": [
        {
          "output_type": "stream",
          "name": "stdout",
          "text": [
            "<class 'int'>\n"
          ]
        }
      ]
    },
    {
      "cell_type": "code",
      "source": [
        "#Implicit Typecasting:\n",
        "a = 2  #integer\n",
        "b = 2.2  #float\n",
        "print(a + b)  #float"
      ],
      "metadata": {
        "colab": {
          "base_uri": "https://localhost:8080/"
        },
        "id": "RcvEYgGHtAJr",
        "outputId": "8a3e987e-f4f5-4451-e00d-c831894ecdb8"
      },
      "execution_count": null,
      "outputs": [
        {
          "output_type": "stream",
          "name": "stdout",
          "text": [
            "4.2\n"
          ]
        }
      ]
    },
    {
      "cell_type": "code",
      "source": [
        "#Explicit Typecasting:\n",
        "a = \"1\"  #string\n",
        "a = int(a)\n",
        "print(type(a))\n"
      ],
      "metadata": {
        "colab": {
          "base_uri": "https://localhost:8080/"
        },
        "id": "5hrkDIJBuSwZ",
        "outputId": "321ce21c-992e-4425-aa26-c175e9ecf131"
      },
      "execution_count": null,
      "outputs": [
        {
          "output_type": "stream",
          "name": "stdout",
          "text": [
            "<class 'int'>\n"
          ]
        }
      ]
    },
    {
      "cell_type": "markdown",
      "source": [
        "**Taking input from User using input() function:**"
      ],
      "metadata": {
        "id": "EYP3T3fruhyB"
      }
    },
    {
      "cell_type": "code",
      "source": [
        "a = int(input(\"Enter the first number:\"))\n",
        "b = int(input(\"Enter the second number:\"))\n",
        "print(\"The sum of a and b is:\",a+b)"
      ],
      "metadata": {
        "colab": {
          "base_uri": "https://localhost:8080/"
        },
        "id": "dNpFQfQ0xAQe",
        "outputId": "72d4f3b0-2ee3-4a92-ab9f-e46f6d4b5a49",
        "collapsed": true
      },
      "execution_count": null,
      "outputs": [
        {
          "output_type": "stream",
          "name": "stdout",
          "text": [
            "Enter the first number:10\n",
            "Enter the second number:12\n",
            "The sum of a and b is: 22\n"
          ]
        }
      ]
    },
    {
      "cell_type": "code",
      "source": [
        "name = input(\"Enter your name: \")\n",
        "print(\"Hello \", name  + \"! :)\")"
      ],
      "metadata": {
        "colab": {
          "base_uri": "https://localhost:8080/"
        },
        "id": "ocdJpZj-xVSk",
        "outputId": "3ba5899b-d7e3-4455-f016-a47da786dec6"
      },
      "execution_count": null,
      "outputs": [
        {
          "output_type": "stream",
          "name": "stdout",
          "text": [
            "Enter your name: ELf\n",
            "Hello  ELf! :)\n"
          ]
        }
      ]
    },
    {
      "cell_type": "markdown",
      "source": [
        "**Strings**: A string is a sequence of characters enclosed within single quotes (' '), double quotes (\" \"), or triple quotes (''' ''' or \"\"\" \"\"\").\n",
        "\n",
        "*Immutable:* Once a string is created, its content cannot be changed.\n",
        "\n",
        "\n",
        "*Ordered:* Strings maintain the order of characters, so indexing and slicing are possible."
      ],
      "metadata": {
        "id": "kui1-M6R1Ix0"
      }
    },
    {
      "cell_type": "code",
      "source": [
        "print(\"\\\"The Sun is awake so I am awake!\\\"\\n\\n\", \"\\\"Do you wanna build a Snowman?\\\"\")"
      ],
      "metadata": {
        "colab": {
          "base_uri": "https://localhost:8080/"
        },
        "id": "GFtb5bSlycMa",
        "outputId": "3157638a-2ba9-4788-ecd3-44edf46a7670"
      },
      "execution_count": null,
      "outputs": [
        {
          "output_type": "stream",
          "name": "stdout",
          "text": [
            "\"The Sun is awake so I am awake!\"\n",
            "\n",
            " \"Do you wanna build a Snowman?\"\n"
          ]
        }
      ]
    },
    {
      "cell_type": "code",
      "source": [
        "frozen = \"\"\"Do you wanna build a snowman\n",
        "\n",
        "Or ride our bikes around the halls?\n",
        "\n",
        "I think some company is overdue, I've started talking to\n",
        "\n",
        "The pictures on the walls\n",
        "\n",
        "Hang in there, Joan\n",
        "\n",
        "It gets a little lonely, all these empty rooms\n",
        "\n",
        "Just watching the hours tick by\n",
        "\n",
        "(tick, tock, tick, tock, tick, tock, tick, tock)\n",
        "\n",
        "Elsa?\n",
        "\n",
        "Please, I know you're in there\n",
        "\n",
        "People are asking where you've been\n",
        "\n",
        "\\\"They say have courage and I'm trying to\n",
        "\n",
        "I'm right out here for you\n",
        "\n",
        "Just let me in\n",
        "\n",
        "We only have each other, it's just you and me\\\"\n",
        "\n",
        "What are we gonna do?\n",
        "\n",
        "\\\"Do you wanna build a snowman?\\\"\"\"\"\n",
        "print(frozen)"
      ],
      "metadata": {
        "colab": {
          "base_uri": "https://localhost:8080/"
        },
        "id": "D_DXO8kl0nfH",
        "outputId": "e972c449-0a7f-40b9-87d6-dfb4f0bf3adf"
      },
      "execution_count": null,
      "outputs": [
        {
          "output_type": "stream",
          "name": "stdout",
          "text": [
            "Do you wanna build a snowman\n",
            "\n",
            "Or ride our bikes around the halls?\n",
            "\n",
            "I think some company is overdue, I've started talking to\n",
            "\n",
            "The pictures on the walls\n",
            "\n",
            "Hang in there, Joan\n",
            "\n",
            "It gets a little lonely, all these empty rooms\n",
            "\n",
            "Just watching the hours tick by\n",
            "\n",
            "(tick, tock, tick, tock, tick, tock, tick, tock)\n",
            "\n",
            "Elsa?\n",
            "\n",
            "Please, I know you're in there\n",
            "\n",
            "People are asking where you've been\n",
            "\n",
            "\"They say have courage and I'm trying to\n",
            "\n",
            "I'm right out here for you\n",
            "\n",
            "Just let me in\n",
            "\n",
            "We only have each other, it's just you and me\"\n",
            "\n",
            "What are we gonna do?\n",
            "\n",
            "\"Do you wanna build a snowman?\"\n"
          ]
        }
      ]
    },
    {
      "cell_type": "code",
      "source": [
        "nm = \"\"\"Harry\"\"\"\n",
        "print(nm[-4:-2])\n",
        "print(len(nm))"
      ],
      "metadata": {
        "colab": {
          "base_uri": "https://localhost:8080/"
        },
        "id": "-7imURHG2OC0",
        "outputId": "c3112782-3f94-47f2-ec11-ffc9f1314d8a"
      },
      "execution_count": null,
      "outputs": [
        {
          "output_type": "stream",
          "name": "stdout",
          "text": [
            "ar\n",
            "5\n"
          ]
        }
      ]
    },
    {
      "cell_type": "code",
      "source": [
        "name = input(\"Enter your name:\")\n",
        "count = (len(name))\n",
        "print(\"Your name has \\\"\",count, \"\\\" characters.\")"
      ],
      "metadata": {
        "id": "OSORjqZi31L0",
        "colab": {
          "base_uri": "https://localhost:8080/"
        },
        "outputId": "dad5697a-cfe1-4335-b878-bdbe71226c6c"
      },
      "execution_count": null,
      "outputs": [
        {
          "output_type": "stream",
          "name": "stdout",
          "text": [
            "Enter your name:Suzain!!!\n",
            "Your name has \" 9 \" characters.\n"
          ]
        }
      ]
    },
    {
      "cell_type": "code",
      "source": [
        "char_count = name[0:5]\n",
        "print(char_count)"
      ],
      "metadata": {
        "colab": {
          "base_uri": "https://localhost:8080/"
        },
        "id": "KXZp_6ANoJMJ",
        "outputId": "766cf83a-ba74-4b0f-992d-b1f352832d0d"
      },
      "execution_count": null,
      "outputs": [
        {
          "output_type": "stream",
          "name": "stdout",
          "text": [
            "Suzai\n"
          ]
        }
      ]
    },
    {
      "cell_type": "code",
      "source": [
        "char_count = name[:9]\n",
        "print(char_count)"
      ],
      "metadata": {
        "colab": {
          "base_uri": "https://localhost:8080/"
        },
        "id": "8hJQd5TRqTU7",
        "outputId": "697d6ce1-cee7-466b-f845-6270984489a2"
      },
      "execution_count": null,
      "outputs": [
        {
          "output_type": "stream",
          "name": "stdout",
          "text": [
            "Suzain!!!\n"
          ]
        }
      ]
    },
    {
      "cell_type": "code",
      "source": [
        "char_count = name[:] #By default takes values from 0 to len of string\n",
        "print(char_count)"
      ],
      "metadata": {
        "colab": {
          "base_uri": "https://localhost:8080/"
        },
        "id": "VEG2bCuIrBJo",
        "outputId": "faccff70-bcde-4c42-b659-9ff96ffccab3"
      },
      "execution_count": null,
      "outputs": [
        {
          "output_type": "stream",
          "name": "stdout",
          "text": [
            "Suzain!!!\n"
          ]
        }
      ]
    },
    {
      "cell_type": "code",
      "source": [
        "for i in name:\n",
        "  print(name)"
      ],
      "metadata": {
        "colab": {
          "base_uri": "https://localhost:8080/"
        },
        "id": "fazT6QWirI3c",
        "outputId": "6d5c4f66-3a19-4f91-fe74-ed2203e458dc"
      },
      "execution_count": null,
      "outputs": [
        {
          "output_type": "stream",
          "name": "stdout",
          "text": [
            "Suzain!!!\n",
            "Suzain!!!\n",
            "Suzain!!!\n",
            "Suzain!!!\n",
            "Suzain!!!\n",
            "Suzain!!!\n",
            "Suzain!!!\n",
            "Suzain!!!\n",
            "Suzain!!!\n"
          ]
        }
      ]
    },
    {
      "cell_type": "code",
      "source": [
        "for i in name:\n",
        "  print(i)"
      ],
      "metadata": {
        "colab": {
          "base_uri": "https://localhost:8080/"
        },
        "id": "YJybBDnvrW6d",
        "outputId": "0f833a2d-6971-4be3-9613-824cdfe7ff63"
      },
      "execution_count": null,
      "outputs": [
        {
          "output_type": "stream",
          "name": "stdout",
          "text": [
            "S\n",
            "u\n",
            "z\n",
            "a\n",
            "i\n",
            "n\n",
            "!\n",
            "!\n",
            "!\n"
          ]
        }
      ]
    },
    {
      "cell_type": "markdown",
      "source": [
        "**String Methods:**\n"
      ],
      "metadata": {
        "id": "-u8Zr8MQffDx"
      }
    },
    {
      "cell_type": "markdown",
      "source": [
        "**The strip()** method in Python does not limit its operation to only the exact characters at the ends of the string.\n",
        "Instead, it works by removing all occurrences of any character specified in its argument from the start and end of the string.\n",
        "It does not remove characters from the middle of the string."
      ],
      "metadata": {
        "id": "a-qq9KDa4MST"
      }
    },
    {
      "cell_type": "code",
      "source": [
        "a = \"     London Paris      \"\n",
        "print(a)\n",
        "print(a.strip())  #Removes whitespaces before and after the string."
      ],
      "metadata": {
        "colab": {
          "base_uri": "https://localhost:8080/"
        },
        "id": "2NgE405S4Sf_",
        "outputId": "4cef081f-450d-4442-940b-5ddd6c92b0ca"
      },
      "execution_count": null,
      "outputs": [
        {
          "output_type": "stream",
          "name": "stdout",
          "text": [
            "     London Paris      \n",
            "London Paris\n"
          ]
        }
      ]
    },
    {
      "cell_type": "markdown",
      "source": [
        "The **rstrip() method** in Python is used to remove any trailing characters (characters at the end of a string).\n",
        "By default, it removes whitespace (spaces, tabs, newlines) from the right side of the string\n",
        "but you can also specify a set of characters to remove."
      ],
      "metadata": {
        "id": "abK1lBBIjNuu"
      }
    },
    {
      "cell_type": "code",
      "source": [
        "str = name.rstrip(\"!\")\n",
        "print(str)"
      ],
      "metadata": {
        "colab": {
          "base_uri": "https://localhost:8080/"
        },
        "id": "9nN076O5d6A_",
        "outputId": "31bbb878-b2b9-41ba-a949-5784abdb4ef7"
      },
      "execution_count": null,
      "outputs": [
        {
          "output_type": "stream",
          "name": "stdout",
          "text": [
            "Suzain\n"
          ]
        }
      ]
    },
    {
      "cell_type": "code",
      "source": [
        "str = name.rstrip(\"\")\n",
        "print(str)"
      ],
      "metadata": {
        "colab": {
          "base_uri": "https://localhost:8080/"
        },
        "id": "m8H5l2LFeLtq",
        "outputId": "eec1d111-d86a-4494-9821-729ee5abd1c3"
      },
      "execution_count": null,
      "outputs": [
        {
          "output_type": "stream",
          "name": "stdout",
          "text": [
            "Suzain!!!\n"
          ]
        }
      ]
    },
    {
      "cell_type": "code",
      "source": [
        "str_1 = \"TheJungleBook@#$%**)(||\\:;)\"\n",
        "print(str_1)"
      ],
      "metadata": {
        "colab": {
          "base_uri": "https://localhost:8080/"
        },
        "id": "BUOBGpcke5-s",
        "outputId": "53540968-4cf7-4846-fbdc-6e08ef078417"
      },
      "execution_count": null,
      "outputs": [
        {
          "output_type": "stream",
          "name": "stdout",
          "text": [
            "TheJungleBook@#$%**)(||\\:;)\n"
          ]
        }
      ]
    },
    {
      "cell_type": "code",
      "source": [
        "result = str_1.rstrip(\"Booklu@#$%*)(|\\\\:;\")\n",
        "print(result)"
      ],
      "metadata": {
        "colab": {
          "base_uri": "https://localhost:8080/"
        },
        "id": "tTwaSsJlfLGR",
        "outputId": "7a147982-5a40-41db-8165-f3ad96f64274"
      },
      "execution_count": null,
      "outputs": [
        {
          "output_type": "stream",
          "name": "stdout",
          "text": [
            "TheJungle\n"
          ]
        }
      ]
    },
    {
      "cell_type": "code",
      "source": [
        "str = \"TheJungleBook@#$%**)(||\\:;)\"\n",
        "str_1= str.rstrip(\"@#$%**)(||\\:;)\")\n",
        "print(str_1)"
      ],
      "metadata": {
        "colab": {
          "base_uri": "https://localhost:8080/"
        },
        "id": "J6zu9tNThNk9",
        "outputId": "d1632e9f-493e-4049-e746-9dea47775c82"
      },
      "execution_count": null,
      "outputs": [
        {
          "output_type": "stream",
          "name": "stdout",
          "text": [
            "TheJungleBook\n"
          ]
        }
      ]
    },
    {
      "cell_type": "code",
      "source": [
        "str_2 = str_1.upper()\n",
        "print(str_2)"
      ],
      "metadata": {
        "colab": {
          "base_uri": "https://localhost:8080/"
        },
        "id": "JAntkGAShSJx",
        "outputId": "52e83663-fec0-4cae-b76e-872070fbe2d6"
      },
      "execution_count": null,
      "outputs": [
        {
          "output_type": "stream",
          "name": "stdout",
          "text": [
            "THEJUNGLEBOOK\n"
          ]
        }
      ]
    },
    {
      "cell_type": "code",
      "source": [
        "str_2 = str_1.lower()\n",
        "print(str_2)"
      ],
      "metadata": {
        "colab": {
          "base_uri": "https://localhost:8080/"
        },
        "id": "A5gb0xd8iioG",
        "outputId": "e4ca6521-fa0e-4ea9-ae9b-c8d74117357b"
      },
      "execution_count": null,
      "outputs": [
        {
          "output_type": "stream",
          "name": "stdout",
          "text": [
            "thejunglebook\n"
          ]
        }
      ]
    },
    {
      "cell_type": "code",
      "source": [
        "#Replace method replaces all occurences of a string with another string.\n",
        "\n",
        "a = \"My name is Paris.\\nI live in Tokyo.\\nI like to eat Turkey.\"\n",
        "print(a)\n",
        "print(\"******************************************\")\n",
        "x = a.replace(\"Paris\", \"Elf\").replace(\"Turkey\", \"Pizza\").replace(\" \", \" + \").replace(\".\",\"!\").replace(\"\\n\",\"\\n\\n\")\n",
        "print(x)\n",
        "#print(a.replace(\"Paris\", \"Elf\").replace(\"Turkey\", \"Pizza\").replace(\" \", \" + \"))"
      ],
      "metadata": {
        "colab": {
          "base_uri": "https://localhost:8080/"
        },
        "id": "c89gCofTi-gg",
        "outputId": "70b52834-2eb6-4f91-e491-167262d2a895"
      },
      "execution_count": null,
      "outputs": [
        {
          "output_type": "stream",
          "name": "stdout",
          "text": [
            "My name is Paris.\n",
            "I live in Tokyo.\n",
            "I like to eat Turkey.\n",
            "******************************************\n",
            "My + name + is + Elf!\n",
            "\n",
            "I + live + in + Tokyo!\n",
            "\n",
            "I + like + to + eat + Pizza!\n"
          ]
        }
      ]
    },
    {
      "cell_type": "code",
      "source": [
        "a = \"Yaaaay!\\n\" * 3\n",
        "print(a)"
      ],
      "metadata": {
        "colab": {
          "base_uri": "https://localhost:8080/"
        },
        "id": "3SfZ2-Zv5rV_",
        "outputId": "bca2db4a-f8e5-4947-fd6a-7a860f8121f1"
      },
      "execution_count": null,
      "outputs": [
        {
          "output_type": "stream",
          "name": "stdout",
          "text": [
            "Yaaaay!\n",
            "Yaaaay!\n",
            "Yaaaay!\n",
            "\n"
          ]
        }
      ]
    },
    {
      "cell_type": "markdown",
      "source": [
        "**split():**\n",
        "\n",
        "**The split()** method in Python is used to break a string into a list of substrings based on a specified delimiter.\n",
        "\n",
        "By default, it splits the string at whitespace characters."
      ],
      "metadata": {
        "id": "Ovc8yQPZjKeP"
      }
    },
    {
      "cell_type": "code",
      "source": [
        "a = \"I love Persia\"\n",
        "b = a.split()\n",
        "print(b)"
      ],
      "metadata": {
        "colab": {
          "base_uri": "https://localhost:8080/"
        },
        "id": "-C56zD0t8K07",
        "outputId": "187026fe-7a3e-40d3-acb4-c1c7971f70e9"
      },
      "execution_count": null,
      "outputs": [
        {
          "output_type": "stream",
          "name": "stdout",
          "text": [
            "['I', 'love', 'Persia']\n"
          ]
        }
      ]
    },
    {
      "cell_type": "code",
      "source": [
        "a = \"I-lovePersia\"\n",
        "b = a.split(\"-\")\n",
        "print(b)"
      ],
      "metadata": {
        "colab": {
          "base_uri": "https://localhost:8080/"
        },
        "id": "2CHrEIhIiyvY",
        "outputId": "059cb404-5ffa-40c3-a344-f7a711b8b672"
      },
      "execution_count": null,
      "outputs": [
        {
          "output_type": "stream",
          "name": "stdout",
          "text": [
            "['I', 'lovePersia']\n"
          ]
        }
      ]
    },
    {
      "cell_type": "code",
      "source": [
        "# The maxsplit parameter in Python's split() method controls how many splits are performed on the string.\n",
        "# After performing the specified number of splits, the rest of the string is returned as the final element of the resulting list.\n",
        "a = \"London Paris Vegas Rome Oslow Greece Italy\"\n",
        "b = a.split(\" \", 2)                              #Performing maxsplit(2)\n",
        "print(b)"
      ],
      "metadata": {
        "colab": {
          "base_uri": "https://localhost:8080/"
        },
        "id": "LwcLLmEaj7c_",
        "outputId": "0c2bb597-a2c6-4acc-dc13-105b89d4ff2e"
      },
      "execution_count": null,
      "outputs": [
        {
          "output_type": "stream",
          "name": "stdout",
          "text": [
            "['London', 'Paris', 'Vegas Rome Oslow Greece Italy']\n"
          ]
        }
      ]
    },
    {
      "cell_type": "markdown",
      "source": [
        "**capitalize():**\n",
        "\n",
        "The capitalize() method in Python is used to convert the first character of a string to uppercase and the rest of the characters to lowercase.\n"
      ],
      "metadata": {
        "id": "PfFLgPJ7klPj"
      }
    },
    {
      "cell_type": "code",
      "source": [
        "str = \"let's go!!!\"\n",
        "str_1 = str.capitalize()\n",
        "print(str_1)"
      ],
      "metadata": {
        "colab": {
          "base_uri": "https://localhost:8080/"
        },
        "id": "hqvIumD28dx8",
        "outputId": "a09caa73-779e-46cf-e543-6e891b43260a"
      },
      "execution_count": null,
      "outputs": [
        {
          "output_type": "stream",
          "name": "stdout",
          "text": [
            "Let's go!!!\n"
          ]
        }
      ]
    },
    {
      "cell_type": "markdown",
      "source": [
        "**center():**\n",
        "\n",
        "The center() method in Python is used to center-align a string within a specified width.\n",
        "It adds padding (spaces by default) on both sides of the string to ensure it is centered."
      ],
      "metadata": {
        "id": "jJo9tUZFOW7n"
      }
    },
    {
      "cell_type": "code",
      "source": [
        "str_2 = str_1.center(150,\"|\")\n",
        "print(str_2)"
      ],
      "metadata": {
        "colab": {
          "base_uri": "https://localhost:8080/"
        },
        "id": "xnNqI9788nIM",
        "outputId": "a05b8fa8-48a6-4225-8164-259dabbafa0f"
      },
      "execution_count": null,
      "outputs": [
        {
          "output_type": "stream",
          "name": "stdout",
          "text": [
            "|||||||||||||||||||||||||||||||||||||||||||||||||||||||||||||||||||||Let's go!!!||||||||||||||||||||||||||||||||||||||||||||||||||||||||||||||||||||||\n"
          ]
        }
      ]
    },
    {
      "cell_type": "markdown",
      "source": [
        "**count():**\n",
        "\n",
        "The count() method in Python is used to count the number of times a specific value appears in a string or a list.\n",
        "\n",
        "It is available for both strings and lists."
      ],
      "metadata": {
        "id": "kbei1wEZQM2o"
      }
    },
    {
      "cell_type": "code",
      "source": [
        "str = \"bananaaa\"\n",
        "str_1 = str.count(\"a\")\n",
        "print(str_1)"
      ],
      "metadata": {
        "colab": {
          "base_uri": "https://localhost:8080/"
        },
        "id": "SeI_CZcD9pHs",
        "outputId": "dee61d37-800f-4cc6-98e9-467203079f24"
      },
      "execution_count": 1,
      "outputs": [
        {
          "output_type": "stream",
          "name": "stdout",
          "text": [
            "5\n"
          ]
        }
      ]
    },
    {
      "cell_type": "code",
      "source": [
        "text = \"bananaaaanaaa\"\n",
        "print(len(text))\n",
        "print(text.count(\"a\"))\n",
        "result = text.count(\"a\", 1, 8)\n",
        "print(result)"
      ],
      "metadata": {
        "colab": {
          "base_uri": "https://localhost:8080/"
        },
        "id": "aXE3Nwz094oS",
        "outputId": "9e373afc-ea8d-4553-9172-334dacc9d173"
      },
      "execution_count": 6,
      "outputs": [
        {
          "output_type": "stream",
          "name": "stdout",
          "text": [
            "13\n",
            "9\n",
            "5\n"
          ]
        }
      ]
    },
    {
      "cell_type": "code",
      "source": [
        "text = \"banana is a fruit and banana is very good for health.\"\n",
        "print(text.count(\"banana\"))\n",
        "print(text.count(\"is\"))\n",
        "print(text.count(\"apple\"))"
      ],
      "metadata": {
        "colab": {
          "base_uri": "https://localhost:8080/"
        },
        "id": "aACh8OoU-WeG",
        "outputId": "847946e7-9447-46da-c016-87ae7469c725"
      },
      "execution_count": 11,
      "outputs": [
        {
          "output_type": "stream",
          "name": "stdout",
          "text": [
            "2\n",
            "2\n",
            "0\n"
          ]
        }
      ]
    },
    {
      "cell_type": "markdown",
      "source": [
        "**endswith():**\n",
        "\n",
        "The endswith() method  checks if a string ends with the specified suffix (character or substring).\n",
        "\n",
        "It returns True if the string ends with the specified suffix; otherwise, it returns False."
      ],
      "metadata": {
        "id": "0-HAsT-m_IUU"
      }
    },
    {
      "cell_type": "code",
      "source": [
        "text = \"Hello, welcome to my world.\"\n",
        "result = text.endswith(\"world.\")\n",
        "print(result)"
      ],
      "metadata": {
        "colab": {
          "base_uri": "https://localhost:8080/"
        },
        "id": "Pi2N4R1zAKx5",
        "outputId": "eb0dad94-8bbd-44ad-be63-b5b8b295cb37"
      },
      "execution_count": 13,
      "outputs": [
        {
          "output_type": "stream",
          "name": "stdout",
          "text": [
            "True\n"
          ]
        }
      ]
    },
    {
      "cell_type": "code",
      "source": [
        "text = \"Hello, welcome to my world.\"\n",
        "result = text.endswith(\".dd\")\n",
        "print(result)"
      ],
      "metadata": {
        "colab": {
          "base_uri": "https://localhost:8080/"
        },
        "id": "t020HMzMAeyk",
        "outputId": "0d34c439-f83c-4a68-edd7-f30bfc63abf7"
      },
      "execution_count": 17,
      "outputs": [
        {
          "output_type": "stream",
          "name": "stdout",
          "text": [
            "False\n"
          ]
        }
      ]
    },
    {
      "cell_type": "code",
      "source": [
        "string = \"Python is fun to learn\"\n",
        "print(len(string))\n",
        "print(string.endswith(\"is\",0,9))\n",
        "print(string.endswith(\"is\",5,9))\n",
        "print(string.endswith(\"is\",0,11))"
      ],
      "metadata": {
        "colab": {
          "base_uri": "https://localhost:8080/"
        },
        "id": "sbHw-Nc_HR-M",
        "outputId": "53a56ad1-df64-42bd-c3b2-075748b02fff"
      },
      "execution_count": 28,
      "outputs": [
        {
          "output_type": "stream",
          "name": "stdout",
          "text": [
            "22\n",
            "True\n",
            "True\n",
            "False\n"
          ]
        }
      ]
    },
    {
      "cell_type": "code",
      "source": [
        "#You can provide a tuple of suffixes to check if the string ends with any one of them.\n",
        "text = \"Hello, welcome to my world.\"\n",
        "result = text.endswith((\"world.\", \"Python\"))\n",
        "print(result)"
      ],
      "metadata": {
        "colab": {
          "base_uri": "https://localhost:8080/"
        },
        "id": "kGdfuISGHjdc",
        "outputId": "e1bbb2ae-dd37-42b2-bd9b-122477a4269c"
      },
      "execution_count": 29,
      "outputs": [
        {
          "output_type": "stream",
          "name": "stdout",
          "text": [
            "True\n"
          ]
        }
      ]
    },
    {
      "cell_type": "code",
      "source": [
        "filename = input(\"Enter the file name: \")\n",
        "if filename.endswith(\".pdf\"):\n",
        "  print(\"This is a pdf file.\")\n",
        "else:\n",
        "  print(\"This is not a pdf file.\")"
      ],
      "metadata": {
        "colab": {
          "base_uri": "https://localhost:8080/"
        },
        "id": "NZ_cvFwuIjKo",
        "outputId": "9f43553e-bcda-4341-9f7b-462f01180d3b"
      },
      "execution_count": 33,
      "outputs": [
        {
          "output_type": "stream",
          "name": "stdout",
          "text": [
            "Enter the file name: RAG.txt\n",
            "This is not a pdf file.\n"
          ]
        }
      ]
    },
    {
      "cell_type": "markdown",
      "source": [
        "**find():**\n",
        "\n",
        "The find() method is used to search for a specific substring in a string.\n",
        "\n",
        " It returns the lowest index of the substring if found; otherwise, it returns -1.\n",
        "\n"
      ],
      "metadata": {
        "id": "Hx5oSa3FI4HH"
      }
    },
    {
      "cell_type": "code",
      "source": [
        "string = \"Python is fun to learn and I love to use Python language.\"\n",
        "print(string.find(\"Python\"))"
      ],
      "metadata": {
        "colab": {
          "base_uri": "https://localhost:8080/"
        },
        "id": "9JViJ8RZKCVq",
        "outputId": "400cabae-2799-42e1-c105-1ffe7bad9b5f"
      },
      "execution_count": 34,
      "outputs": [
        {
          "output_type": "stream",
          "name": "stdout",
          "text": [
            "0\n"
          ]
        }
      ]
    },
    {
      "cell_type": "code",
      "source": [
        "string = \"Python is fun to learn and I love to use Python language.\"\n",
        "print(string.find(\"Python\",6,56))"
      ],
      "metadata": {
        "colab": {
          "base_uri": "https://localhost:8080/"
        },
        "id": "Z8L1nd5WKjIe",
        "outputId": "468ccc6f-3420-4923-d345-5ea4346b505f"
      },
      "execution_count": 38,
      "outputs": [
        {
          "output_type": "stream",
          "name": "stdout",
          "text": [
            "41\n"
          ]
        }
      ]
    },
    {
      "cell_type": "code",
      "source": [
        "string = \"Python is fun to learn and I love to use Python language.\"\n",
        "print(string.find(\"Java\"))    #find() returns -1 if the substring is not found."
      ],
      "metadata": {
        "colab": {
          "base_uri": "https://localhost:8080/"
        },
        "id": "gqr1vgh7KpoD",
        "outputId": "b2068d46-5ab4-428f-88fb-5122cf729f5b"
      },
      "execution_count": 39,
      "outputs": [
        {
          "output_type": "stream",
          "name": "stdout",
          "text": [
            "-1\n"
          ]
        }
      ]
    },
    {
      "cell_type": "code",
      "source": [],
      "metadata": {
        "id": "fS2F62myLkJH"
      },
      "execution_count": null,
      "outputs": []
    }
  ]
}