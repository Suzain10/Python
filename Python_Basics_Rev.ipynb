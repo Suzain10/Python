{
  "nbformat": 4,
  "nbformat_minor": 0,
  "metadata": {
    "colab": {
      "provenance": []
    },
    "kernelspec": {
      "name": "python3",
      "display_name": "Python 3"
    },
    "language_info": {
      "name": "python"
    }
  },
  "cells": [
    {
      "cell_type": "markdown",
      "source": [
        "**Module** is like a code library which can be used to borrow the code written by somebody else, is of 2 types:\n",
        "**Built-in** **modules** are included in Python's standard library and do not require installation and can be used using import. Example: math, os etc.\n",
        "**External modules** are not included in the standard library and need to be installed using a package manager like pip. Example: numpy, pandas etc.\n"
      ],
      "metadata": {
        "id": "bn_uEUx_YozU"
      }
    },
    {
      "cell_type": "code",
      "execution_count": null,
      "metadata": {
        "colab": {
          "base_uri": "https://localhost:8080/"
        },
        "id": "l1AtVnukPkiw",
        "outputId": "7755910a-2394-4de7-928a-c9fde63f030f"
      },
      "outputs": [
        {
          "output_type": "stream",
          "name": "stdout",
          "text": [
            "Hi I am \"Suzain\".\n"
          ]
        }
      ],
      "source": [
        "print(\"Hi I am \\\"Suzain\\\".\")  #Escape Sequence"
      ]
    },
    {
      "cell_type": "code",
      "source": [
        "print(\"My name is \\\"Suzain\\\",\\nI live in \\\"India\\\",\\nI love \\\"Animals\\\".\")"
      ],
      "metadata": {
        "colab": {
          "base_uri": "https://localhost:8080/"
        },
        "id": "NsYNYkN7PrU6",
        "outputId": "6e9acc18-c434-40bf-bf13-170c1bb2870a"
      },
      "execution_count": null,
      "outputs": [
        {
          "output_type": "stream",
          "name": "stdout",
          "text": [
            "My name is \"Suzain\",\n",
            "I live in \"India\",\n",
            "I love \"Animals\".\n"
          ]
        }
      ]
    },
    {
      "cell_type": "code",
      "source": [
        "new_var = print(\"My name is \\\"Suzain\\\" \" ,\" I live in \\\"India\\\"\", sep=\"and\")\n",
        "new_var"
      ],
      "metadata": {
        "colab": {
          "base_uri": "https://localhost:8080/"
        },
        "id": "cCN38Zl_QTIP",
        "outputId": "ccbf40bb-8a8f-44a0-c866-34f751dc5a48"
      },
      "execution_count": null,
      "outputs": [
        {
          "output_type": "stream",
          "name": "stdout",
          "text": [
            "My name is \"Suzain\" and I live in \"India\"\n"
          ]
        }
      ]
    },
    {
      "cell_type": "code",
      "source": [
        "print(\"Suzain\", \"24\",\"Female\", sep = \"\\n\")  #Separator"
      ],
      "metadata": {
        "colab": {
          "base_uri": "https://localhost:8080/"
        },
        "id": "6r4_h-5WQtHA",
        "outputId": "3aabe379-917e-4087-cc95-d1a1e317d63e"
      },
      "execution_count": null,
      "outputs": [
        {
          "output_type": "stream",
          "name": "stdout",
          "text": [
            "Suzain\n",
            "24\n",
            "Female\n"
          ]
        }
      ]
    },
    {
      "cell_type": "code",
      "source": [
        "'''new_var = print(\"My name is \\\"Suzain\\\" \" ,\" I live in \\\"India\\\"\", sep=\"and\")\n",
        "new_var'''                   ##Multi-line Comment\n",
        "print(\"Hello\")"
      ],
      "metadata": {
        "colab": {
          "base_uri": "https://localhost:8080/"
        },
        "id": "gQHVchtXRmQD",
        "outputId": "82ddfe2f-12f0-46c0-e72f-c703c3b4cf13"
      },
      "execution_count": null,
      "outputs": [
        {
          "output_type": "stream",
          "name": "stdout",
          "text": [
            "Hello\n"
          ]
        }
      ]
    },
    {
      "cell_type": "markdown",
      "source": [
        "**Typecasting**: Conversion of one data type to another.\n",
        "Has 2 types:  \n",
        "**Implicit Typecasting:** Here, Python automatically converts one data type to another to avoid data loss or errors during operations.\n",
        "\n",
        "**Explicit Typecasting:** It is when you manually convert one data type to another using functions like int(), float(), str(), etc.\n",
        "\n"
      ],
      "metadata": {
        "id": "sNFfTqgqsKhf"
      }
    },
    {
      "cell_type": "code",
      "source": [
        "a = 1\n",
        "b = 2\n",
        "print(type(a))"
      ],
      "metadata": {
        "colab": {
          "base_uri": "https://localhost:8080/"
        },
        "id": "lvzomCZ0slCF",
        "outputId": "3be0f73c-2b27-41e7-8a3f-6961d527d54c"
      },
      "execution_count": null,
      "outputs": [
        {
          "output_type": "stream",
          "name": "stdout",
          "text": [
            "<class 'int'>\n"
          ]
        }
      ]
    },
    {
      "cell_type": "code",
      "source": [
        "a = \"1\"\n",
        "b = \"2\"\n",
        "print(type(a))\n",
        "print(a + b)"
      ],
      "metadata": {
        "colab": {
          "base_uri": "https://localhost:8080/"
        },
        "id": "h59T9N10spIK",
        "outputId": "6919cbed-aedf-43b3-9734-d1c75c6417e9"
      },
      "execution_count": null,
      "outputs": [
        {
          "output_type": "stream",
          "name": "stdout",
          "text": [
            "<class 'str'>\n",
            "12\n"
          ]
        }
      ]
    },
    {
      "cell_type": "code",
      "source": [
        "a = int(2.2)\n",
        "b = 2.2\n",
        "print(type(a))\n"
      ],
      "metadata": {
        "colab": {
          "base_uri": "https://localhost:8080/"
        },
        "id": "eN1i--JYs2Hr",
        "outputId": "7de2811e-e0ff-4985-9167-80b70c66ba57"
      },
      "execution_count": null,
      "outputs": [
        {
          "output_type": "stream",
          "name": "stdout",
          "text": [
            "<class 'int'>\n"
          ]
        }
      ]
    },
    {
      "cell_type": "code",
      "source": [
        "#Implicit Typecasting:\n",
        "a = 2  #integer\n",
        "b = 2.2  #float\n",
        "print(a + b)  #float"
      ],
      "metadata": {
        "colab": {
          "base_uri": "https://localhost:8080/"
        },
        "id": "RcvEYgGHtAJr",
        "outputId": "c9f70100-6d76-4ab6-b446-00b79624cc05"
      },
      "execution_count": null,
      "outputs": [
        {
          "output_type": "stream",
          "name": "stdout",
          "text": [
            "4.2\n"
          ]
        }
      ]
    },
    {
      "cell_type": "code",
      "source": [
        "#Explicit Typecasting:\n",
        "a = \"1\"  #string\n",
        "a = int(a)\n",
        "print(type(a))\n"
      ],
      "metadata": {
        "colab": {
          "base_uri": "https://localhost:8080/"
        },
        "id": "5hrkDIJBuSwZ",
        "outputId": "d99a779e-7122-4c00-de20-df33f41209ed"
      },
      "execution_count": null,
      "outputs": [
        {
          "output_type": "stream",
          "name": "stdout",
          "text": [
            "<class 'int'>\n"
          ]
        }
      ]
    },
    {
      "cell_type": "markdown",
      "source": [
        "**Taking input from User using input() function:**"
      ],
      "metadata": {
        "id": "EYP3T3fruhyB"
      }
    },
    {
      "cell_type": "code",
      "source": [
        "a = int(input(\"Enter the first number:\"))\n",
        "b = int(input(\"Enter the second number:\"))\n",
        "print(\"The sum of a and b is:\",a+b)"
      ],
      "metadata": {
        "colab": {
          "base_uri": "https://localhost:8080/"
        },
        "id": "dNpFQfQ0xAQe",
        "outputId": "b7ab4294-f8cd-4420-f19f-73892b3668d0"
      },
      "execution_count": null,
      "outputs": [
        {
          "output_type": "stream",
          "name": "stdout",
          "text": [
            "Enter the first number:2\n",
            "Enter the second number:2\n",
            "The sum of a and b is: 4\n"
          ]
        }
      ]
    },
    {
      "cell_type": "code",
      "source": [
        "name = input(\"Enter your name: \")\n",
        "print(\"Hello \", name  + \"! :)\")"
      ],
      "metadata": {
        "colab": {
          "base_uri": "https://localhost:8080/"
        },
        "id": "ocdJpZj-xVSk",
        "outputId": "31f8e37f-e0f1-448c-e242-ffbe2fd3129e"
      },
      "execution_count": null,
      "outputs": [
        {
          "output_type": "stream",
          "name": "stdout",
          "text": [
            "Enter your name: Maliha\n",
            "Hello  Maliha! :)\n"
          ]
        }
      ]
    },
    {
      "cell_type": "markdown",
      "source": [
        "**Strings**: A string is a sequence of characters enclosed within single quotes (' '), double quotes (\" \"), or triple quotes (''' ''' or \"\"\" \"\"\").\n",
        "\n",
        "*Immutable:* Once a string is created, its content cannot be changed.\n",
        "\n",
        "\n",
        "*Ordered:* Strings maintain the order of characters, so indexing and slicing are possible."
      ],
      "metadata": {
        "id": "kui1-M6R1Ix0"
      }
    },
    {
      "cell_type": "code",
      "source": [
        "print(\"\\\"The Sun is awake so I am awake!\\\"\\n\", \"\\\"Do you wanna build a Snowman?\\\"\")"
      ],
      "metadata": {
        "colab": {
          "base_uri": "https://localhost:8080/"
        },
        "id": "GFtb5bSlycMa",
        "outputId": "47fe759c-f5cb-4880-9ba2-ca340f52fa20"
      },
      "execution_count": null,
      "outputs": [
        {
          "output_type": "stream",
          "name": "stdout",
          "text": [
            "\"The Sun is awake so I am awake!\"\n",
            " \"Do you wanna build a Snowman?\"\n"
          ]
        }
      ]
    },
    {
      "cell_type": "code",
      "source": [
        "frozen = \"\"\"Do you wanna build a snowman\n",
        "\n",
        "Or ride our bikes around the halls?\n",
        "\n",
        "I think some company is overdue, I've started talking to\n",
        "\n",
        "The pictures on the walls\n",
        "\n",
        "Hang in there, Joan\n",
        "\n",
        "It gets a little lonely, all these empty rooms\n",
        "\n",
        "Just watching the hours tick by\n",
        "\n",
        "(tick, tock, tick, tock, tick, tock, tick, tock)\n",
        "\n",
        "Elsa?\n",
        "\n",
        "Please, I know you're in there\n",
        "\n",
        "People are asking where you've been\n",
        "\n",
        "\\\"They say have courage and I'm trying to\n",
        "\n",
        "I'm right out here for you\n",
        "\n",
        "Just let me in\n",
        "\n",
        "We only have each other, it's just you and me\\\"\n",
        "\n",
        "What are we gonna do?\n",
        "\n",
        "\\\"Do you wanna build a snowman?\\\"\"\"\"\n",
        "print(frozen)"
      ],
      "metadata": {
        "colab": {
          "base_uri": "https://localhost:8080/"
        },
        "id": "D_DXO8kl0nfH",
        "outputId": "12b3a414-b849-4a2f-ed94-cdbc9bff0b90"
      },
      "execution_count": null,
      "outputs": [
        {
          "output_type": "stream",
          "name": "stdout",
          "text": [
            "Do you wanna build a snowman\n",
            "\n",
            "Or ride our bikes around the halls?\n",
            "\n",
            "I think some company is overdue, I've started talking to\n",
            "\n",
            "The pictures on the walls\n",
            "\n",
            "Hang in there, Joan\n",
            "\n",
            "It gets a little lonely, all these empty rooms\n",
            "\n",
            "Just watching the hours tick by\n",
            "\n",
            "(tick, tock, tick, tock, tick, tock, tick, tock)\n",
            "\n",
            "Elsa?\n",
            "\n",
            "Please, I know you're in there\n",
            "\n",
            "People are asking where you've been\n",
            "\n",
            "\"They say have courage and I'm trying to\n",
            "\n",
            "I'm right out here for you\n",
            "\n",
            "Just let me in\n",
            "\n",
            "We only have each other, it's just you and me\"\n",
            "\n",
            "What are we gonna do?\n",
            "\n",
            "\"Do you wanna build a snowman?\"\n"
          ]
        }
      ]
    },
    {
      "cell_type": "code",
      "source": [
        "nm = \"\"\"Harry\"\"\"\n",
        "print(nm[-4:-2])\n",
        "print(len(nm))"
      ],
      "metadata": {
        "colab": {
          "base_uri": "https://localhost:8080/"
        },
        "id": "-7imURHG2OC0",
        "outputId": "9a4be579-88d8-497c-b8bb-ed826c784718"
      },
      "execution_count": 2,
      "outputs": [
        {
          "output_type": "stream",
          "name": "stdout",
          "text": [
            "ar\n",
            "5\n"
          ]
        }
      ]
    },
    {
      "cell_type": "code",
      "source": [
        "name = input(\"Enter your name: \")\n",
        "count = (len(name))\n",
        "print(\"Your name has \\\"\",count,\"\\\" characters.\")"
      ],
      "metadata": {
        "id": "OSORjqZi31L0",
        "colab": {
          "base_uri": "https://localhost:8080/"
        },
        "outputId": "ba5746e0-cef0-4d09-85fd-08ad07c9a84d"
      },
      "execution_count": 1,
      "outputs": [
        {
          "output_type": "stream",
          "name": "stdout",
          "text": [
            "Enter your name: ElsaAannnaa!!!!\n",
            "Your name has \" 15 \" characters.\n"
          ]
        }
      ]
    },
    {
      "cell_type": "code",
      "source": [
        "char_count = name[0:5]\n",
        "print(char_count)"
      ],
      "metadata": {
        "colab": {
          "base_uri": "https://localhost:8080/"
        },
        "id": "KXZp_6ANoJMJ",
        "outputId": "bc78bf25-cdbb-45e0-a65b-1f326e41951d"
      },
      "execution_count": 2,
      "outputs": [
        {
          "output_type": "stream",
          "name": "stdout",
          "text": [
            "ElsaA\n"
          ]
        }
      ]
    },
    {
      "cell_type": "code",
      "source": [
        "char_count = name[:9]\n",
        "print(char_count)"
      ],
      "metadata": {
        "colab": {
          "base_uri": "https://localhost:8080/"
        },
        "id": "8hJQd5TRqTU7",
        "outputId": "63d77ba5-e2f4-4013-c102-c7091bf18a63"
      },
      "execution_count": 3,
      "outputs": [
        {
          "output_type": "stream",
          "name": "stdout",
          "text": [
            "ElsaAannn\n"
          ]
        }
      ]
    },
    {
      "cell_type": "code",
      "source": [
        "char_count = name[:] #By default takes values from 0 to len of string\n",
        "print(char_count)"
      ],
      "metadata": {
        "colab": {
          "base_uri": "https://localhost:8080/"
        },
        "id": "VEG2bCuIrBJo",
        "outputId": "c0849280-7eb9-453b-ef36-a78f3a1f5c8b"
      },
      "execution_count": 4,
      "outputs": [
        {
          "output_type": "stream",
          "name": "stdout",
          "text": [
            "ElsaAannnaa!!!!\n"
          ]
        }
      ]
    },
    {
      "cell_type": "code",
      "source": [
        "for i in name:\n",
        "  print(name)"
      ],
      "metadata": {
        "colab": {
          "base_uri": "https://localhost:8080/"
        },
        "id": "fazT6QWirI3c",
        "outputId": "9f270130-c76c-40e0-c62a-1a9604fb41cb"
      },
      "execution_count": 5,
      "outputs": [
        {
          "output_type": "stream",
          "name": "stdout",
          "text": [
            "ElsaAannnaa!!!!\n",
            "ElsaAannnaa!!!!\n",
            "ElsaAannnaa!!!!\n",
            "ElsaAannnaa!!!!\n",
            "ElsaAannnaa!!!!\n",
            "ElsaAannnaa!!!!\n",
            "ElsaAannnaa!!!!\n",
            "ElsaAannnaa!!!!\n",
            "ElsaAannnaa!!!!\n",
            "ElsaAannnaa!!!!\n",
            "ElsaAannnaa!!!!\n",
            "ElsaAannnaa!!!!\n",
            "ElsaAannnaa!!!!\n",
            "ElsaAannnaa!!!!\n",
            "ElsaAannnaa!!!!\n"
          ]
        }
      ]
    },
    {
      "cell_type": "code",
      "source": [
        "for i in name:\n",
        "  print(i)"
      ],
      "metadata": {
        "colab": {
          "base_uri": "https://localhost:8080/"
        },
        "id": "YJybBDnvrW6d",
        "outputId": "5427478c-754b-49e6-93f6-3214f364dbc7"
      },
      "execution_count": 6,
      "outputs": [
        {
          "output_type": "stream",
          "name": "stdout",
          "text": [
            "E\n",
            "l\n",
            "s\n",
            "a\n",
            "A\n",
            "a\n",
            "n\n",
            "n\n",
            "n\n",
            "a\n",
            "a\n",
            "!\n",
            "!\n",
            "!\n",
            "!\n"
          ]
        }
      ]
    },
    {
      "cell_type": "markdown",
      "source": [
        "**String Methods:**\n",
        "The strip() method in Python does not limit its operation to only the exact characters at the ends of the string.\n",
        "Instead, it works by removing all occurrences of any character specified in its argument from the start and end of the string.\n",
        "It does not remove characters from the middle of the string."
      ],
      "metadata": {
        "id": "-u8Zr8MQffDx"
      }
    },
    {
      "cell_type": "markdown",
      "source": [
        "The **rstrip() method** in Python is used to remove any trailing characters (characters at the end of a string).\n",
        "By default, it removes whitespace (spaces, tabs, newlines) from the right side of the string\n",
        "but you can also specify a set of characters to remove."
      ],
      "metadata": {
        "id": "abK1lBBIjNuu"
      }
    },
    {
      "cell_type": "code",
      "source": [
        "str = name.rstrip(\"!\")\n",
        "print(str)"
      ],
      "metadata": {
        "colab": {
          "base_uri": "https://localhost:8080/"
        },
        "id": "9nN076O5d6A_",
        "outputId": "136648ec-e511-4fe6-d003-bd25ec50d06a"
      },
      "execution_count": 13,
      "outputs": [
        {
          "output_type": "stream",
          "name": "stdout",
          "text": [
            "ElsaAannnaa\n"
          ]
        }
      ]
    },
    {
      "cell_type": "code",
      "source": [
        "str = name.rstrip(\"\")\n",
        "print(str)"
      ],
      "metadata": {
        "colab": {
          "base_uri": "https://localhost:8080/"
        },
        "id": "m8H5l2LFeLtq",
        "outputId": "a5c262b6-f8fe-45da-b474-2fff22d8915d"
      },
      "execution_count": 14,
      "outputs": [
        {
          "output_type": "stream",
          "name": "stdout",
          "text": [
            "ElsaAannnaa!!!!\n"
          ]
        }
      ]
    },
    {
      "cell_type": "code",
      "source": [
        "str_1 = \"TheJuTngleTBook@#$%**)(||\\:;)\"\n",
        "print(str_1)"
      ],
      "metadata": {
        "colab": {
          "base_uri": "https://localhost:8080/"
        },
        "id": "BUOBGpcke5-s",
        "outputId": "6fa23784-6e27-474d-bad1-5209c6bbaec7"
      },
      "execution_count": 9,
      "outputs": [
        {
          "output_type": "stream",
          "name": "stdout",
          "text": [
            "TheJuTngleTBook@#$%**)(||\\:;)\n"
          ]
        }
      ]
    },
    {
      "cell_type": "code",
      "source": [
        "result = str_1.rstrip(\"Thko@#$%*)(|\\\\:;\")\n",
        "print(result)"
      ],
      "metadata": {
        "colab": {
          "base_uri": "https://localhost:8080/"
        },
        "id": "tTwaSsJlfLGR",
        "outputId": "66b8afe8-c91e-49ed-f208-b38ac9cb973f"
      },
      "execution_count": 12,
      "outputs": [
        {
          "output_type": "stream",
          "name": "stdout",
          "text": [
            "TheJuTngleTB\n"
          ]
        }
      ]
    },
    {
      "cell_type": "code",
      "source": [
        "str = \"TheJungleBook@#$%**)(||\\:;)\"\n",
        "str_1= str.rstrip(\"@#$%**)(||\\:;)\")\n",
        "print(str_1)"
      ],
      "metadata": {
        "colab": {
          "base_uri": "https://localhost:8080/"
        },
        "id": "J6zu9tNThNk9",
        "outputId": "1b0cf6bc-5e26-4006-941a-1ad159f244fd"
      },
      "execution_count": 14,
      "outputs": [
        {
          "output_type": "stream",
          "name": "stdout",
          "text": [
            "TheJungleBook\n"
          ]
        }
      ]
    },
    {
      "cell_type": "code",
      "source": [
        "str_2 = str_1.upper()\n",
        "print(str_2)"
      ],
      "metadata": {
        "colab": {
          "base_uri": "https://localhost:8080/"
        },
        "id": "JAntkGAShSJx",
        "outputId": "34ec08c6-301f-47f2-f254-4c82b66d74fa"
      },
      "execution_count": 17,
      "outputs": [
        {
          "output_type": "stream",
          "name": "stdout",
          "text": [
            "THEJUNGLEBOOK\n"
          ]
        }
      ]
    },
    {
      "cell_type": "code",
      "source": [
        "str_2 = str_1.lower()\n",
        "print(str_2)"
      ],
      "metadata": {
        "colab": {
          "base_uri": "https://localhost:8080/"
        },
        "id": "A5gb0xd8iioG",
        "outputId": "f09d4643-1bfb-4670-8eb3-021a1c788116"
      },
      "execution_count": 18,
      "outputs": [
        {
          "output_type": "stream",
          "name": "stdout",
          "text": [
            "thejunglebook\n"
          ]
        }
      ]
    },
    {
      "cell_type": "code",
      "source": [],
      "metadata": {
        "id": "c89gCofTi-gg"
      },
      "execution_count": null,
      "outputs": []
    }
  ]
}